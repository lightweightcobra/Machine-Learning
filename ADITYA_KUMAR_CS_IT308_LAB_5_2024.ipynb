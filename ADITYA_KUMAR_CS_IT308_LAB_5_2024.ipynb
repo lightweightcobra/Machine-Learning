{
  "nbformat": 4,
  "nbformat_minor": 0,
  "metadata": {
    "colab": {
      "provenance": [],
      "include_colab_link": true
    },
    "kernelspec": {
      "display_name": "Python 3",
      "language": "python",
      "name": "python3"
    },
    "language_info": {
      "codemirror_mode": {
        "name": "ipython",
        "version": 3
      },
      "file_extension": ".py",
      "mimetype": "text/x-python",
      "name": "python",
      "nbconvert_exporter": "python",
      "pygments_lexer": "ipython3",
      "version": "3.8.5"
    }
  },
  "cells": [
    {
      "cell_type": "markdown",
      "metadata": {
        "id": "view-in-github",
        "colab_type": "text"
      },
      "source": [
        "<a href=\"https://colab.research.google.com/github/lightweightcobra/Machine-Learning/blob/main/ADITYA_KUMAR_CS_IT308_LAB_5_2024.ipynb\" target=\"_parent\"><img src=\"https://colab.research.google.com/assets/colab-badge.svg\" alt=\"Open In Colab\"/></a>"
      ]
    },
    {
      "cell_type": "markdown",
      "metadata": {
        "id": "J59uxyWVDHIH"
      },
      "source": [
        "# <center> IIIT Vadodara </center>\n",
        "## <center> Winter 2023-24 </center>\n",
        "## <center> CS/IT 308, CS 652, CS8XX Machine Learning Lab </center>\n",
        "## <center> Lab#5 Logistic regression for clasification </center>"
      ]
    },
    {
      "cell_type": "code",
      "metadata": {
        "id": "avzQ8wuovv0r"
      },
      "source": [
        "%matplotlib inline\n",
        "import numpy as np\n",
        "import matplotlib.pyplot as plt\n",
        "from mpl_toolkits import mplot3d\n",
        "from scipy import misc\n",
        "from numpy import linalg as la\n",
        "import matplotlib.image as mpimg\n",
        "import glob\n",
        "from numpy import linalg as LA\n",
        "import scipy.io as sio"
      ],
      "execution_count": null,
      "outputs": []
    },
    {
      "cell_type": "markdown",
      "metadata": {
        "id": "elPPF--j54CE"
      },
      "source": [
        "## <font color='blue'> Brief about **Gradient descent optimization**:\n",
        "---\n",
        "\n",
        "\n",
        "Given a system $Ax=b$, we find $x$ for given observations $b$ and coeffiecient matrix $A$. When $b$ is not in column space of $A$, then $Ax \\neq b$ and we need to find $x$ in such a way that $Ax \\approx b$.\n",
        "\n",
        "<br>\n",
        "Linear least square is one of the methods to estimate $x$ by minimizing the mean square error as, $\\min ||Ax-b||_2$. This can be written as,\n",
        "        \n",
        "$\\underset{x}{\\mathrm{argmin}}||Ax-b||_{2}^{2} = f(x)$\n",
        "\n",
        "We need to find $x$ in such a way that $f(x)$ will be minimum in $L_2$ norm.\n",
        "\n",
        "<br>\n",
        "\n",
        "\n",
        "We will solve this by applying gradient descent algortithm on $f(x)$.\n",
        "<br>\n",
        "To apply this algorithm we need to find gradient of the function, i.e.,\n",
        "<br>\n",
        "              $\\Delta_x f(x)= A^T(Ax-b) = A^TAx-A^Tb$\n",
        "\n",
        "<br>\n",
        "\n",
        "\n",
        "Optimisation for least-squares\n",
        "<br>\n",
        "$||A^TAx-A^Tb||_2>\\delta$, $\\delta$ is the small positive number indicating tolerance.\n",
        "\n",
        "<br>\n",
        "\n",
        "Now we will find new x iteratively using step size $\\alpha$ to find the best fit for $AX=b$ as:\n",
        "\n",
        "<br>\n",
        "$x^{[n+1]}=x^{[n]}-\\alpha (A^TAx-A^Tb)$.\n",
        "<br>\n",
        "\n",
        "We need to choose $\\alpha$, $\\delta$ and $x^{[0]}$ to iterate until $x^{[n+1]} \\rightarrow x^{[n]}$."
      ]
    },
    {
      "cell_type": "markdown",
      "source": [
        "## <font color='red'> **Problem 1)**\n",
        "Consider $A=\\begin{bmatrix}\n",
        "0.7 & 0.2\\\\\n",
        "0.1 & 0.6\n",
        "\\end{bmatrix}$ and the observation matrix $b=\\begin{bmatrix}\n",
        "0.5\\\\\n",
        "0.6\n",
        "\\end{bmatrix}$ in a system $Ax=b$. However, $b$ is not in column space of $A$, thus $Ax \\neq b$ and we need to find $x$ in such a way that $Ax \\approx b$. Using linear least square $x$ can be estimated by minimizing the mean squared error as,  $\\min ||Ax-b||_2$. Use gradient descent optimization to minimize the functional and obtain estimated value of $x$, i.e., $\\hat{x}_{gd-opt}$.\n",
        "\n",
        "\n",
        "Now, find out $\\hat{x}$ using psuedoinverse or normal equation, i.e., $\\hat{x}_{pinv}$. Check, is  $\\hat{x}_{pinv}$ = $\\hat{x}_{gd-opt}$? Yes/No, comment.\n",
        "\n"
      ],
      "metadata": {
        "id": "HWfassntStNE"
      }
    },
    {
      "cell_type": "code",
      "source": [
        "# write code here\n",
        "A = np.array([[0.7, 0.2], [0.1, 0.6]])\n",
        "b = np.array([0.5, 0.6])\n",
        "# By psedoInverse\n",
        "x_pseudo = la.pinv(A)@b\n",
        "print(\"The value of x by pseudoinverse is: \",x_pseudo)\n",
        "\n",
        "x = np.zeros(A.shape[1])\n",
        "\n",
        "step_size = 0.01\n",
        "iterations = 10000\n",
        "\n",
        "for i in range (iterations):\n",
        "  Ax = np.dot(A, x)\n",
        "  gradient = np.dot(A.T, Ax - b)\n",
        "  x -= step_size * gradient\n",
        "\n",
        "print(\"The value of x by gradient descent is: \",x)"
      ],
      "metadata": {
        "id": "0CS15SsaSsix",
        "colab": {
          "base_uri": "https://localhost:8080/"
        },
        "outputId": "1a828d52-80fc-4026-d893-a9bff95af1c6"
      },
      "execution_count": null,
      "outputs": [
        {
          "output_type": "stream",
          "name": "stdout",
          "text": [
            "The value of x by pseudoinverse is:  [0.45  0.925]\n",
            "The value of x by gradient descent is:  [0.45  0.925]\n"
          ]
        }
      ]
    },
    {
      "cell_type": "markdown",
      "metadata": {
        "id": "5RHmtTp_2rD-"
      },
      "source": [
        "##  <font color='blue'> Logistic regression\n",
        "\n",
        "---\n",
        "Cost funcion for logistic regression,\n",
        "$$\n",
        "\\begin{aligned}\n",
        "J(\\theta) &=\\frac{1}{m} \\sum_{i=1}^{m} \\cos t\\left(h_{\\theta}\\left(x^{i}\\right), y^{\\prime}\\right) \\\\\n",
        "&=-\\frac{1}{m}\\left[\\sum_{i=1}^{m} y^{i} \\log h_{\\theta}\\left(x^{i}\\right)+\\left(1-y^{i}\\right)\\right.\\log \\left(1-\\log \\left(x^{i}\\right)\\right]\\\\\n",
        "h(x)&=\\frac{1}{1+e^{-\\Theta^Tx}}\n",
        "\\end{aligned}\n",
        "$$\n",
        "So, using gradient descent\n",
        "$$\n",
        "\\Theta_{i+1}=\\Theta_{i}-\\frac{\\alpha}{m} \\sum_{i=1}^{m}\\left(h\\left(x^{i} \\Theta\\right)-y^{i}\\right)\n",
        "$$\n",
        "iterate till $$\n",
        "\\Theta_{i+1} \\cong \\Theta_{i}\n",
        "$$\n",
        "\n",
        "\n"
      ]
    },
    {
      "cell_type": "markdown",
      "metadata": {
        "id": "bmByR5kGEznY"
      },
      "source": [
        "## <font color='red'> 2. Perform logistic regression on the dataset given below.\n",
        "Here, to classify 2D data,\n",
        "decision line can be given as,\n",
        "$$\\theta_0+\\theta_1x+\\theta_2y=0$$\n",
        "Let, $$\\Theta^T=\\begin{bmatrix}\n",
        "\\theta_0\\\\\n",
        "\\theta_1\\\\\n",
        "\\theta_2\n",
        "\\end{bmatrix}$$"
      ]
    },
    {
      "cell_type": "code",
      "metadata": {
        "id": "z5jBd5UfOKPK",
        "colab": {
          "base_uri": "https://localhost:8080/"
        },
        "outputId": "dbc67600-f7b8-4c99-c7e2-6ebeb3a47548"
      },
      "source": [
        "#Dataset example\n",
        "\n",
        "X = np.array([[0,0,0],[0,1,0],[0,2,0],[0,3,1],[1,0,0],[1,1,0],[1,2,1],[1,3,1],[2,0,0],[2,1,1],[2,2,1],[2,3,1]])\n",
        "x = X[:, :-1]\n",
        "y = X[:, -1]\n",
        "print(\"x|y|class\")\n",
        "print(x)\n",
        "print(y)"
      ],
      "execution_count": null,
      "outputs": [
        {
          "output_type": "stream",
          "name": "stdout",
          "text": [
            "x|y|class\n",
            "[[0 0]\n",
            " [0 1]\n",
            " [0 2]\n",
            " [0 3]\n",
            " [1 0]\n",
            " [1 1]\n",
            " [1 2]\n",
            " [1 3]\n",
            " [2 0]\n",
            " [2 1]\n",
            " [2 2]\n",
            " [2 3]]\n",
            "[0 0 0 1 0 0 1 1 0 1 1 1]\n"
          ]
        }
      ]
    },
    {
      "cell_type": "code",
      "metadata": {
        "id": "FCTOtJI2OKPK",
        "colab": {
          "base_uri": "https://localhost:8080/",
          "height": 449
        },
        "outputId": "e3f1b94e-c92d-41b3-89a4-ce1eefb99e6b"
      },
      "source": [
        "#Generate scatter plot of X\n",
        "plt.scatter(X[:,0], X[:,1])\n",
        "plt.xlabel('x')\n",
        "plt.ylabel('y')\n",
        "plt.show()"
      ],
      "execution_count": null,
      "outputs": [
        {
          "output_type": "display_data",
          "data": {
            "text/plain": [
              "<Figure size 640x480 with 1 Axes>"
            ],
            "image/png": "[encoded data removed]"
          },
          "metadata": {}
        }
      ]
    },
    {
      "cell_type": "code",
      "metadata": {
        "id": "8nFt5IMZOKPL"
      },
      "source": [
        "# Generate X by concatinating ones and X\n",
        "x = np.c_[np.ones((x.shape[0], 1)), x]"
      ],
      "execution_count": null,
      "outputs": []
    },
    {
      "cell_type": "code",
      "metadata": {
        "id": "7pkIlNlSyP1h"
      },
      "source": [
        "#write code for gradient descent to find thetas\n",
        "def sigmoid(z):\n",
        "    return 1 / (1 + np.exp(-z))\n",
        "\n",
        "def decision_boundary(x, theta):\n",
        "    return sigmoid(np.dot(x, theta))\n",
        "\n",
        "theta = np.zeros(x.shape[1])\n",
        "alpha = 0.01\n",
        "iterations = 10000\n",
        "\n",
        "\n",
        "for i in range(iterations):\n",
        "    h = decision_boundary(x, theta)\n",
        "    gradient = np.dot(x.T, (h - y)) / y.size\n",
        "    theta -= alpha * gradient\n",
        "\n"
      ],
      "execution_count": null,
      "outputs": []
    },
    {
      "cell_type": "code",
      "source": [
        "plt.scatter(X[:, 0], X[:, 1], c=X[:, -1])\n",
        "x_min, x_max = X[:, 0].min(), X[:, 0].max()\n",
        "y_min, y_max = X[:, 1].min(), X[:, 1].max()\n",
        "xx, yy = np.meshgrid(np.linspace(x_min-0.5, x_max+0.5), np.linspace(y_min-0.5, y_max+0.5))\n",
        "grid = np.c_[np.ones(xx.ravel().shape), xx.ravel(), yy.ravel()]\n",
        "probs = decision_boundary(grid, theta).reshape(xx.shape)\n",
        "plt.contour(xx, yy, probs, levels=[0.5])\n",
        "plt.show()"
      ],
      "metadata": {
        "colab": {
          "base_uri": "https://localhost:8080/",
          "height": 435
        },
        "id": "zF2kSQp9OkmR",
        "outputId": "a0e5eedf-90c2-40c5-de4a-d511e2cd19fe"
      },
      "execution_count": null,
      "outputs": [
        {
          "output_type": "display_data",
          "data": {
            "text/plain": [
              "<Figure size 640x480 with 1 Axes>"
            ],
            "image/png": "[encoded data removed]"
          },
          "metadata": {}
        }
      ]
    },
    {
      "cell_type": "code",
      "source": [
        "# Classify the points and calculate the accuracy\n",
        "predict = sigmoid(np.dot(x, theta))\n",
        "predict[predict >= 0.5] = 1\n",
        "predict[predict < 0.5] = 0\n",
        "\n",
        "accuracy = np.mean(predict == y) * 100\n",
        "print(\"Accuracy: {}%\".format(accuracy))\n",
        "\n"
      ],
      "metadata": {
        "id": "EoBNIDzlFZ6-",
        "colab": {
          "base_uri": "https://localhost:8080/"
        },
        "outputId": "1a0e530f-16d1-453b-a850-238e91a5fd98"
      },
      "execution_count": null,
      "outputs": [
        {
          "output_type": "stream",
          "name": "stdout",
          "text": [
            "Accuracy: 100.0%\n"
          ]
        }
      ]
    },
    {
      "cell_type": "code",
      "source": [],
      "metadata": {
        "id": "5M1ACgpIY0AY"
      },
      "execution_count": null,
      "outputs": []
    }
  ]
}