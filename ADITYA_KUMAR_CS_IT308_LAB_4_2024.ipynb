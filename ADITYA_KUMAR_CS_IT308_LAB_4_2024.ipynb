{
  "nbformat": 4,
  "nbformat_minor": 0,
  "metadata": {
    "colab": {
      "provenance": [],
      "include_colab_link": true
    },
    "kernelspec": {
      "display_name": "Python 3",
      "language": "python",
      "name": "python3"
    },
    "language_info": {
      "codemirror_mode": {
        "name": "ipython",
        "version": 3
      },
      "file_extension": ".py",
      "mimetype": "text/x-python",
      "name": "python",
      "nbconvert_exporter": "python",
      "pygments_lexer": "ipython3",
      "version": "3.8.5"
    }
  },
  "cells": [
    {
      "cell_type": "markdown",
      "metadata": {
        "id": "view-in-github",
        "colab_type": "text"
      },
      "source": [
        "<a href=\"https://colab.research.google.com/github/lightweightcobra/Machine-Learning/blob/main/ADITYA_KUMAR_CS_IT308_LAB_4_2024.ipynb\" target=\"_parent\"><img src=\"https://colab.research.google.com/assets/colab-badge.svg\" alt=\"Open In Colab\"/></a>"
      ]
    },
    {
      "cell_type": "markdown",
      "metadata": {
        "id": "J59uxyWVDHIH"
      },
      "source": [
        "# <center> IIIT Vadodara </center>\n",
        "## <center> Winter 2023-24 </center>\n",
        "## <center> CS/IT 308, CS 652, CS8XX Machine Learning Lab </center>\n",
        "## <center> Lab#4 MMSE and Linear regression</center>"
      ]
    },
    {
      "cell_type": "code",
      "metadata": {
        "id": "avzQ8wuovv0r"
      },
      "source": [
        "%matplotlib inline\n",
        "import numpy as np\n",
        "import matplotlib.pyplot as plt\n",
        "from mpl_toolkits import mplot3d\n",
        "from scipy import misc\n",
        "from numpy import linalg as la\n",
        "import matplotlib.image as mpimg\n",
        "import glob\n",
        "from numpy import linalg as LA\n",
        "import scipy.io as sio"
      ],
      "execution_count": null,
      "outputs": []
    },
    {
      "cell_type": "markdown",
      "metadata": {
        "id": "Ul9TzH7FarSJ"
      },
      "source": [
        "## <font color='blue'> MMSE\n",
        "\n",
        "---\n",
        "\n",
        "Refer class note\n",
        "\n"
      ]
    },
    {
      "cell_type": "markdown",
      "metadata": {
        "id": "9LxANVCMGpeg"
      },
      "source": [
        "## <font color='red'> 1. Find the minimum mean squared error (MMSE) on following data."
      ]
    },
    {
      "cell_type": "code",
      "metadata": {
        "id": "29q1QCGfGoji",
        "colab": {
          "base_uri": "https://localhost:8080/"
        },
        "outputId": "85683a9b-57b7-43b4-dcfd-97ef325730b4"
      },
      "source": [
        "y = [11,20,19,17,10]\n",
        "y_bar = [12,18,19.5,18,9]\n",
        "\n",
        "sum = 0\n",
        "for i in range(len(y)):\n",
        "  sum += (y[i] - y_bar[i])**2\n",
        "\n",
        "print(sum/len(y))\n",
        "\n"
      ],
      "execution_count": null,
      "outputs": [
        {
          "output_type": "stream",
          "name": "stdout",
          "text": [
            "1.45\n"
          ]
        }
      ]
    },
    {
      "cell_type": "markdown",
      "metadata": {
        "id": "mSc_Dw5NIEQR"
      },
      "source": [
        "## <font color='red'> 2 Given a sample space $S_{XY}={(0,0),(1,1),(2,2),(2,3)}$, with equiprobable outcomes, i.e., $p(0,0)=p(1,1)=p(2,2)=p(2,3)=\\frac{1}{4}$. Estimate $\\hat{Y}$ given X.\n",
        "\n",
        "\n",
        "$$\\hat{Y}=E(Y)+\\frac{COV(X,Y)}{VAR(X)}(X-E(X))$$\n",
        "\n",
        "Also calculate the mean squared error between $\\hat{Y}$ and $Y$.\n",
        "\n",
        "\n",
        "Hint: You can use the classnotes for help."
      ]
    },
    {
      "cell_type": "code",
      "metadata": {
        "id": "_DVM24iIOLvs",
        "colab": {
          "base_uri": "https://localhost:8080/"
        },
        "outputId": "f1886f64-027e-4312-9c13-ffeaf4798194"
      },
      "source": [
        "\n",
        "\n",
        "# Code here\n",
        "x = [0, 1, 2, 2]\n",
        "y = [0, 1, 2, 3]\n",
        "y_hat = []\n",
        "# find E(x)\n",
        "Ex = 0\n",
        "for i in range(len(x)):\n",
        "  Ex += x[i]\n",
        "\n",
        "Ex/= len(x)\n",
        "print(\"E(x):\",Ex)\n",
        "# Find E(y)\n",
        "Ey = 0\n",
        "for i in range(len(y)):\n",
        "  Ey += y[i]\n",
        "\n",
        "Ey/= len(y)\n",
        "print(\"E(y):\",Ey)\n",
        "#Find E(x^2)\n",
        "Ex2 = 0\n",
        "for i in range(len(x)):\n",
        "  Ex2 += x[i]**2\n",
        "Ex2/=len(x)\n",
        "print(\"E(x^2):\",Ex2)\n",
        "var_x = Ex2 - Ex**2\n",
        "print(var_x)\n",
        "\n",
        "Exy = 0\n",
        "\n",
        "for i in range(len(x)):\n",
        "  Exy += x[i]*y[i]\n",
        "Exy /= len(x)\n",
        "\n",
        "print(\"E(xy):\",Exy)\n",
        "\n",
        "Cov_xy = Exy -Ex*Ey\n",
        "print(\"Cov(x,y):\",Cov_xy)\n",
        "\n",
        "for i in range(len(x)):\n",
        "  num = Ey + (Cov_xy*(x[i]-Ex))/var_x\n",
        "  y_hat.append(num)\n",
        "\n",
        "print(y_hat)\n",
        "\n",
        "def find_MSE(y, y_hat):\n",
        "  sum = 0\n",
        "  for i in range(len(y)):\n",
        "    sum += (y[i] - y_hat[i])**2\n",
        "  sum /= len(y)\n",
        "  return sum\n",
        "\n",
        "\n",
        "print(\"X | Y | Y_hat\")\n",
        "print(\"  |   |\")\n",
        "for i in range(len(x)):\n",
        "    print(f\"{x[i]} | {y[i]} | {y_hat[i]}\")\n",
        "print()\n",
        "mse = find_MSE(y, y_hat)\n",
        "print(\"MSE of Y and Y_hat is:\", mse)\n"
      ],
      "execution_count": null,
      "outputs": [
        {
          "output_type": "stream",
          "name": "stdout",
          "text": [
            "E(x): 1.25\n",
            "E(y): 1.5\n",
            "E(x^2): 2.25\n",
            "0.6875\n",
            "E(xy): 2.75\n",
            "Cov(x,y): 0.875\n",
            "[-0.09090909090909083, 1.1818181818181819, 2.4545454545454546, 2.4545454545454546]\n",
            "X | Y | Y_hat\n",
            "  |   |\n",
            "0 | 0 | -0.09090909090909083\n",
            "1 | 1 | 1.1818181818181819\n",
            "2 | 2 | 2.4545454545454546\n",
            "2 | 3 | 2.4545454545454546\n",
            "\n",
            "MSE of Y and Y_hat is: 0.13636363636363635\n"
          ]
        }
      ]
    },
    {
      "cell_type": "markdown",
      "metadata": {
        "id": "sA91hARzDHIN"
      },
      "source": [
        "## <font color='blue'> Linear regression\n",
        "\n",
        "---\n",
        "\n",
        "Refer class note\n",
        "\n"
      ]
    },
    {
      "cell_type": "markdown",
      "metadata": {
        "id": "A_AErP9zTzhW"
      },
      "source": [
        "## <font color='red'> 3. Perform linear regression on the given dataset and observe underfitting and overfitting capacity of the function."
      ]
    },
    {
      "cell_type": "code",
      "metadata": {
        "id": "ece3rfGPDHIO",
        "colab": {
          "base_uri": "https://localhost:8080/"
        },
        "outputId": "5bdd44ff-29de-4cac-ec6a-66b0d5df765f"
      },
      "source": [
        "#example of dataset:\n",
        "\n",
        "no_samples = 10\n",
        "\n",
        "#Generate n = np.random.rand(no_samples) # Here data is zero mean\n",
        "n = np.random.rand(no_samples)\n",
        "print(n)\n",
        "#Generate x between 0 and 2 using number of smaples\n",
        "x = np.linspace(0, 2, 10)\n",
        "print(x)\n",
        "\n",
        "#Generate function y dependent on x and n: y = x**2+2*n\n",
        "def generate_y(x, n):\n",
        "    y = x**2 + 2*n\n",
        "    return y\n",
        "\n",
        "\n",
        "y = generate_y(x, n)\n",
        "print(y)"
      ],
      "execution_count": null,
      "outputs": [
        {
          "output_type": "stream",
          "name": "stdout",
          "text": [
            "[0.4118538  0.80114322 0.6898947  0.31352827 0.96840232 0.4180438\n",
            " 0.45432252 0.39217939 0.33919112 0.55913049]\n",
            "[0.         0.22222222 0.44444444 0.66666667 0.88888889 1.11111111\n",
            " 1.33333333 1.55555556 1.77777778 2.        ]\n",
            "[0.82370761 1.65166916 1.57732026 1.07150098 2.72692809 2.0706555\n",
            " 2.68642281 3.20411186 3.83887606 5.11826098]\n"
          ]
        }
      ]
    },
    {
      "cell_type": "code",
      "metadata": {
        "id": "oXhg_EyRDHIO",
        "colab": {
          "base_uri": "https://localhost:8080/",
          "height": 448
        },
        "outputId": "4cdcbfce-6341-4200-821d-fc141ed9edb9"
      },
      "source": [
        "# code to scatter plot x and y\n",
        "plt.scatter(x,y)"
      ],
      "execution_count": null,
      "outputs": [
        {
          "output_type": "execute_result",
          "data": {
            "text/plain": [
              "<matplotlib.collections.PathCollection at 0x7b334cb65990>"
            ]
          },
          "metadata": {},
          "execution_count": 140
        },
        {
          "output_type": "display_data",
          "data": {
            "text/plain": [
              "<Figure size 640x480 with 1 Axes>"
            ],
            "image/png": "[encoded data removed]"
          },
          "metadata": {}
        }
      ]
    },
    {
      "cell_type": "markdown",
      "metadata": {
        "id": "FRn1fNC3V6A2"
      },
      "source": [
        "#### Hint: Pseudo inverse\n",
        " $$Y = W^TX$$\n",
        " $$W = (X^TX)^{-1}X^TY$$"
      ]
    },
    {
      "cell_type": "markdown",
      "metadata": {
        "id": "Q2hKjTtGW1_Q"
      },
      "source": [
        "1. Take $y = \\theta_0 + \\theta_1 x$"
      ]
    },
    {
      "cell_type": "code",
      "metadata": {
        "id": "t314LgujDfsU",
        "colab": {
          "base_uri": "https://localhost:8080/"
        },
        "outputId": "efe1c1e9-e604-4bf0-ff9c-eeb8c00db6ac"
      },
      "source": [
        "#Generate X1 by concatinating ones and x as shown in output\n",
        "X1 = np.column_stack((np.ones_like(x), x))\n",
        "W1 = la.pinv(X1)@y\n",
        "#Find W1 using pseudo inverse\n",
        "print(X1)\n",
        "print(W1)"
      ],
      "execution_count": null,
      "outputs": [
        {
          "output_type": "stream",
          "name": "stdout",
          "text": [
            "[[1.         0.        ]\n",
            " [1.         0.22222222]\n",
            " [1.         0.44444444]\n",
            " [1.         0.66666667]\n",
            " [1.         0.88888889]\n",
            " [1.         1.11111111]\n",
            " [1.         1.33333333]\n",
            " [1.         1.55555556]\n",
            " [1.         1.77777778]\n",
            " [1.         2.        ]]\n",
            "[0.66920316 1.80774217]\n"
          ]
        }
      ]
    },
    {
      "cell_type": "markdown",
      "metadata": {
        "id": "QSz_j96NXFrl"
      },
      "source": [
        "2. Take $y = \\theta_0 + \\theta_1 x + \\theta_2 x^2 +\\theta_3 x^3 +\\theta_4 x^4+\\theta_5 x^5$"
      ]
    },
    {
      "cell_type": "code",
      "metadata": {
        "id": "k15lcMq9GqY5",
        "colab": {
          "base_uri": "https://localhost:8080/"
        },
        "outputId": "0594e58e-382d-4158-e9a6-ece43b9d3619"
      },
      "source": [
        "#Generate X2 by concatinating ones,x,x**2,x**3,x**4,x**5\n",
        "# X2 = np.column_stack((np.ones(no_samples), x, x**2, x**3, x**4, x**5, x**6, x**7, x**8, x**9, x**10, x**11, x**12, x**13, x**14, x**15, x**16, x**17,x**18,\n",
        "#                       x**19, x**20, x**21, x**22, x**23, x**24, x**25, x**26, x**27, x**28, x**29, x**30, x**31, x**32, x**33, x**34, x**35, x**36,\n",
        "#                       x**37, x**38, x**39, x**40, x**41, x**42, x**43, x**44, x**45, x**46, x**47, x**48, x**49))\n",
        "X2 = np.column_stack((np.ones(no_samples), x, x**2, x**3, x**4, x**5))\n",
        "#Generate W2 using: W2= la.inv(X2.T@X2)@X2.T@y\n",
        "W2 = la.pinv(X2)@y\n",
        "print(X2)\n",
        "print(W2)"
      ],
      "execution_count": null,
      "outputs": [
        {
          "output_type": "stream",
          "name": "stdout",
          "text": [
            "[[1.00000000e+00 0.00000000e+00 0.00000000e+00 0.00000000e+00\n",
            "  0.00000000e+00 0.00000000e+00]\n",
            " [1.00000000e+00 2.22222222e-01 4.93827160e-02 1.09739369e-02\n",
            "  2.43865264e-03 5.41922810e-04]\n",
            " [1.00000000e+00 4.44444444e-01 1.97530864e-01 8.77914952e-02\n",
            "  3.90184423e-02 1.73415299e-02]\n",
            " [1.00000000e+00 6.66666667e-01 4.44444444e-01 2.96296296e-01\n",
            "  1.97530864e-01 1.31687243e-01]\n",
            " [1.00000000e+00 8.88888889e-01 7.90123457e-01 7.02331962e-01\n",
            "  6.24295077e-01 5.54928957e-01]\n",
            " [1.00000000e+00 1.11111111e+00 1.23456790e+00 1.37174211e+00\n",
            "  1.52415790e+00 1.69350878e+00]\n",
            " [1.00000000e+00 1.33333333e+00 1.77777778e+00 2.37037037e+00\n",
            "  3.16049383e+00 4.21399177e+00]\n",
            " [1.00000000e+00 1.55555556e+00 2.41975309e+00 3.76406036e+00\n",
            "  5.85520500e+00 9.10809667e+00]\n",
            " [1.00000000e+00 1.77777778e+00 3.16049383e+00 5.61865569e+00\n",
            "  9.98872123e+00 1.77577266e+01]\n",
            " [1.00000000e+00 2.00000000e+00 4.00000000e+00 8.00000000e+00\n",
            "  1.60000000e+01 3.20000000e+01]]\n",
            "[  0.87325123   5.51873195 -16.54634921  22.17368239 -12.38820578\n",
            "   2.50762362]\n"
          ]
        }
      ]
    },
    {
      "cell_type": "markdown",
      "metadata": {
        "id": "O8dE-LFTXjlg"
      },
      "source": [
        "3. Take $y = \\theta_0 + \\theta_1 x + \\theta_2 x^2 $"
      ]
    },
    {
      "cell_type": "code",
      "metadata": {
        "id": "TzezcIs1EKyU",
        "colab": {
          "base_uri": "https://localhost:8080/"
        },
        "outputId": "29920961-5f0e-4c65-f671-90cb661bbb0f"
      },
      "source": [
        "#Generate X3 by concatinating ones,x,x**2\n",
        "X3 = np.column_stack((np.ones(no_samples), x, x**2))\n",
        "\n",
        "#Generate W3 using: W2= la.inv(X3.T@X3)@X3.T@y\n",
        "W3= la.inv(X3.T@X3)@X3.T@y\n",
        "print(X3)\n",
        "print(W3)"
      ],
      "execution_count": null,
      "outputs": [
        {
          "output_type": "stream",
          "name": "stdout",
          "text": [
            "[[1.         0.         0.        ]\n",
            " [1.         0.22222222 0.04938272]\n",
            " [1.         0.44444444 0.19753086]\n",
            " [1.         0.66666667 0.44444444]\n",
            " [1.         0.88888889 0.79012346]\n",
            " [1.         1.11111111 1.2345679 ]\n",
            " [1.         1.33333333 1.77777778]\n",
            " [1.         1.55555556 2.41975309]\n",
            " [1.         1.77777778 3.16049383]\n",
            " [1.         2.         4.        ]]\n",
            "[1.18681062 0.06081699 0.87346259]\n"
          ]
        }
      ]
    },
    {
      "cell_type": "code",
      "metadata": {
        "id": "FTXLSaztFzlZ",
        "colab": {
          "base_uri": "https://localhost:8080/",
          "height": 430
        },
        "outputId": "4d3d1d27-34c9-4dc3-d5e3-4cf34fc5a9e5"
      },
      "source": [
        "\n",
        "#Generate y_p1 = X1@W1\n",
        "y_p1 = X1@W1\n",
        "\n",
        "#Generate y_p2 = X2@W2\n",
        "y_p2 = X2@W2\n",
        "\n",
        "#Generate y_p3 = X3@W3\n",
        "y_p3 = X3@W3\n",
        "\n",
        "ax = plt.scatter(x, y)\n",
        "#Plot x,y_p1\n",
        "ax = plt.plot(x,y_p1)\n",
        "#plot x,y_p2\n",
        "ax = plt.plot(x, y_p2)\n",
        "#plot x,y_p3\n",
        "ax = plt.plot(x, y_p3)\n",
        "\n",
        "plt.legend([\"Data Points\",\"linear line\", \"higher degree polynomial\", \"second degree polynomial\"])\n",
        "plt.show()"
      ],
      "execution_count": null,
      "outputs": [
        {
          "output_type": "display_data",
          "data": {
            "text/plain": [
              "<Figure size 640x480 with 1 Axes>"
            ],
            "image/png": "[encoded data removed]"
          },
          "metadata": {}
        }
      ]
    },
    {
      "cell_type": "code",
      "source": [],
      "metadata": {
        "id": "EoBNIDzlFZ6-"
      },
      "execution_count": null,
      "outputs": []
    }
  ]
}