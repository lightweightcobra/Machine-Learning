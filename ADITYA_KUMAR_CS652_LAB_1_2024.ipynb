{
  "cells": [
    {
      "cell_type": "markdown",
      "metadata": {
        "id": "view-in-github",
        "colab_type": "text"
      },
      "source": [
        "<a href=\"https://colab.research.google.com/github/lightweightcobra/Machine-Learning/blob/main/ADITYA_KUMAR_CS652_LAB_1_2024.ipynb\" target=\"_parent\"><img src=\"https://colab.research.google.com/assets/colab-badge.svg\" alt=\"Open In Colab\"/></a>"
      ]
    },
    {
      "cell_type": "markdown",
      "metadata": {
        "id": "2YJxH5VNcYtp"
      },
      "source": [
        "# <center> IIIT Vadodara </center>\n",
        "## <center> Winter 2023-24 </center>\n",
        "## <center> CS/IT 308, CS 652, CS8XX Machine Learning Lab </center>\n",
        "## <center> Lab#1 Foundation techniques </center>"
      ]
    },
    {
      "cell_type": "markdown",
      "metadata": {
        "id": "SC8rZl_fnw1d"
      },
      "source": [
        "## Basic of Numbers in python"
      ]
    },
    {
      "cell_type": "code",
      "execution_count": null,
      "metadata": {
        "colab": {
          "base_uri": "https://localhost:8080/"
        },
        "id": "Rr8W2uMznw1g",
        "outputId": "42b4e2cf-ce68-4b46-ce9b-1fa753e60fc7"
      },
      "outputs": [
        {
          "output_type": "stream",
          "name": "stdout",
          "text": [
            "3 <class 'int'>\n"
          ]
        }
      ],
      "source": [
        "x = 3\n",
        "print (x, type(x))"
      ]
    },
    {
      "cell_type": "code",
      "execution_count": null,
      "metadata": {
        "colab": {
          "base_uri": "https://localhost:8080/"
        },
        "id": "SJouww7Inw1p",
        "outputId": "03767203-aa43-4ed9-ea7d-c8a632767a11"
      },
      "outputs": [
        {
          "name": "stdout",
          "output_type": "stream",
          "text": [
            "4\n",
            "2\n",
            "6\n",
            "9\n"
          ]
        }
      ],
      "source": [
        "print (x + 1)   # Addition;\n",
        "print (x - 1)   # Subtraction;\n",
        "print (x * 2)   # Multiplication;\n",
        "print (x ** 2)  # Exponentiation;"
      ]
    },
    {
      "cell_type": "code",
      "execution_count": null,
      "metadata": {
        "colab": {
          "base_uri": "https://localhost:8080/"
        },
        "id": "nj14uZF2nw1z",
        "outputId": "cb24862d-f245-470b-ab05-3e630c5d6286"
      },
      "outputs": [
        {
          "name": "stdout",
          "output_type": "stream",
          "text": [
            "4\n",
            "8\n"
          ]
        }
      ],
      "source": [
        "x += 1\n",
        "print (x)  # Prints \"4\"\n",
        "x *= 2\n",
        "print (x)  # Prints \"8\""
      ]
    },
    {
      "cell_type": "code",
      "execution_count": null,
      "metadata": {
        "colab": {
          "base_uri": "https://localhost:8080/"
        },
        "id": "gUMeY7ILnw16",
        "outputId": "0c2713d2-2f5b-4ba4-c325-db8ebaa9f3b6"
      },
      "outputs": [
        {
          "name": "stdout",
          "output_type": "stream",
          "text": [
            "<class 'float'>\n",
            "2.5 3.5 5.0 6.25\n"
          ]
        }
      ],
      "source": [
        "y = 2.5\n",
        "print (type(y) )# Prints \"<type 'float'>\"\n",
        "print (y, y + 1, y * 2, y ** 2) # Prints \"2.5 3.5 5.0 6.25\""
      ]
    },
    {
      "cell_type": "markdown",
      "metadata": {
        "id": "qxvvHiItnw2H"
      },
      "source": [
        "Note that unlike many languages, Python does not have unary increment (x++) or decrement (x--) operators.\n",
        "\n",
        "Python also has built-in types for long integers and complex numbers; you can find all of the details in the [documentation](https://docs.python.org/2/library/stdtypes.html#numeric-types-int-float-long-complex)."
      ]
    },
    {
      "cell_type": "markdown",
      "metadata": {
        "id": "EPF5FeiybxYi"
      },
      "source": [
        "## Numpy\n",
        "Numpy is the core library for scientific computing in Python. It provides a high-performance multidimensional array object, and tools for working with these arrays. If you are already familiar with MATLAB,"
      ]
    },
    {
      "cell_type": "code",
      "execution_count": null,
      "metadata": {
        "id": "zzuw0IDlb4uY"
      },
      "outputs": [],
      "source": [
        "import numpy as np"
      ]
    },
    {
      "cell_type": "markdown",
      "metadata": {
        "id": "UjZvGRYzb6xp"
      },
      "source": [
        "Find details of mathemetical function in numpy  at https://docs.scipy.org/doc/numpy-1.15.0/reference/routines.math.html"
      ]
    },
    {
      "cell_type": "markdown",
      "metadata": {
        "id": "WM95q6CkXwv6"
      },
      "source": [
        "## <font color='red'>1. Evaluate the expression $a^3+\\sqrt{bd}-4c$, where $a=1.2, b=2.3, c=4.5$ and $d=4$.</font>"
      ]
    },
    {
      "cell_type": "code",
      "execution_count": null,
      "metadata": {
        "colab": {
          "base_uri": "https://localhost:8080/"
        },
        "id": "3CI1OWaFYsyg",
        "outputId": "bcbaebcd-034e-453d-aa3d-75307e16a679"
      },
      "outputs": [
        {
          "name": "stdout",
          "output_type": "stream",
          "text": [
            "-13.23884982237938\n"
          ]
        }
      ],
      "source": [
        "#Write your code\n",
        "a = 1.2\n",
        "b = 2.3\n",
        "c = 4.5\n",
        "d = 4\n",
        "\n",
        "result = a**3 + (b*d)**0.5 - 4*c\n",
        "print(result)"
      ]
    },
    {
      "cell_type": "markdown",
      "metadata": {
        "id": "e_J4a3YEfe6P"
      },
      "source": [
        "## Numpy array indexing and array operations\n",
        "Help to create Numpy array: https://docs.scipy.org/doc/numpy-1.15.0/reference/generated/numpy.array.html#numpy.array\n",
        "\n",
        "Help to create Numpy array indexing:https://docs.scipy.org/doc/numpy-1.15.0/reference/arrays.indexing.html\n",
        "\n",
        "Help to create Numpy for matlab user:https://docs.scipy.org/doc/numpy/user/numpy-for-matlab-users.html\n"
      ]
    },
    {
      "cell_type": "markdown",
      "metadata": {
        "id": "3IPVZYK9dkxa"
      },
      "source": [
        "## <font color='red'>2. Consider the two matrices: </font>\n",
        "\n",
        "$A=\\begin{bmatrix}4 & -6 \\\\6 & 10\n",
        "\\end{bmatrix}$ $B=\\begin{bmatrix}6 & -13 \\\\3.4 & 16\n",
        "\\end{bmatrix}$.\n",
        "## <font color='red'>Find: (a) $A+B$ (b) $B^2$ (c) $AB$ (d) $B^TA^T$ (e) Replace the second column of $A$ with that of $B$."
      ]
    },
    {
      "cell_type": "code",
      "execution_count": null,
      "metadata": {
        "colab": {
          "base_uri": "https://localhost:8080/"
        },
        "id": "w-nnu6l4gIY6",
        "outputId": "6ce96408-dbf3-4584-986b-7b9a02e378dd"
      },
      "outputs": [
        {
          "name": "stdout",
          "output_type": "stream",
          "text": [
            "[[ 10.  -19. ]\n",
            " [  9.4  26. ]]\n",
            "[[  -8.2 -286. ]\n",
            " [  74.8  211.8]]\n",
            "[[   3.6 -148. ]\n",
            " [  70.    82. ]]\n",
            "[[   3.6   70. ]\n",
            " [-148.    82. ]]\n",
            "[[ 4 -6]]\n"
          ]
        }
      ],
      "source": [
        "#write your code\n",
        "a = np.matrix([[4, -6], [6, 10]])\n",
        "b = np.matrix([[6, -13], [3.4, 16]])\n",
        "\n",
        "result1 = a+b\n",
        "print(result1)\n",
        "\n",
        "result2 = b*b\n",
        "print(result2)\n",
        "\n",
        "result3 = a*b\n",
        "print(result3)\n",
        "\n",
        "a_tr = a.transpose()\n",
        "b_tr = b.transpose()\n",
        "\n",
        "result4 = b_tr*a_tr\n",
        "print(result4)\n",
        "\n",
        "a[:, 1] = b[:, 1]"
      ]
    },
    {
      "cell_type": "markdown",
      "metadata": {
        "id": "AaDe3HVi-mgV"
      },
      "source": [
        "## Numpy : Linear *algebra*\n",
        "https://docs.scipy.org/doc/numpy-1.15.0/reference/routines.linalg.html"
      ]
    },
    {
      "cell_type": "markdown",
      "metadata": {
        "id": "QyptrBW578Se"
      },
      "source": [
        "## <font color='red'>3. Find the solution of the following set of linear algebraic equations:$$5x+6y+10z=4$$ $$-3x+14z=10$$ $$-7y+21z=0$$</font>"
      ]
    },
    {
      "cell_type": "code",
      "execution_count": null,
      "metadata": {
        "id": "F6Ta5w348idj",
        "colab": {
          "base_uri": "https://localhost:8080/"
        },
        "outputId": "5feaa526-ed8b-4e09-ebce-275f63921d3d"
      },
      "outputs": [
        {
          "output_type": "stream",
          "name": "stdout",
          "text": [
            "[[-1.45454545]\n",
            " [ 1.20779221]\n",
            " [ 0.4025974 ]]\n"
          ]
        }
      ],
      "source": [
        "#write your code\n",
        "A = np.matrix([[5, 6, 10], [-3, 0, 14], [0, -7, 21]])\n",
        "b = np.matrix([[4],[10], [0]])\n",
        "\n",
        "A_inv = np.linalg.inv(A)\n",
        "\n",
        "result = A_inv*b\n",
        "\n",
        "print(result)"
      ]
    },
    {
      "cell_type": "markdown",
      "metadata": {
        "id": "zhGD6rIYCJ8i"
      },
      "source": [
        "## <font color='red'>4. Find the solution of the following set of linear algebraic equations such that $\\Vert Ax-b\\Vert^2_2$is minimized:$$5x+6y+10z=4$$ $$-3x+14z=10$$ $$-7y+21z=0$$$$2x-y+45z=16$$</font>\n",
        "Hint: Use psudo inverse"
      ]
    },
    {
      "cell_type": "code",
      "execution_count": null,
      "metadata": {
        "id": "HyVZ5bHKC6Lr",
        "colab": {
          "base_uri": "https://localhost:8080/"
        },
        "outputId": "8438d2e5-ada5-4927-bc29-450728a158a5"
      },
      "outputs": [
        {
          "output_type": "stream",
          "name": "stdout",
          "text": [
            "[[-1.46103896]\n",
            " [ 1.2393321 ]\n",
            " [ 0.43692022]]\n"
          ]
        }
      ],
      "source": [
        "#write your code\n",
        "A = np.matrix([[5, 6, 10], [-3, 0, 14], [0, -7, 21], [2,-1, 45]])\n",
        "b = np.matrix([[4],[10],[0],[16]])\n",
        "A_tr = A.transpose()\n",
        "A_tr_A = A_tr * A\n",
        "A_tr_A_inv = np.linalg.inv(A_tr_A)\n",
        "\n",
        "result = A_tr_A_inv*A_tr*b\n",
        "\n",
        "print(result)\n",
        "\n",
        "\n"
      ]
    },
    {
      "cell_type": "markdown",
      "metadata": {
        "id": "3B34NIubEbA-"
      },
      "source": [
        "## <font color='red'>5. create following two arrays:\n",
        "(a) Array of ones with 10 elements\n",
        "(b) Array a[1] = 2; a[2] = 3 and a[3] to a[10] are zero</font>"
      ]
    },
    {
      "cell_type": "code",
      "execution_count": null,
      "metadata": {
        "id": "iu6GxTFAFZFP",
        "colab": {
          "base_uri": "https://localhost:8080/"
        },
        "outputId": "53a7b6c7-d321-440f-acdf-5c762b3c339a"
      },
      "outputs": [
        {
          "output_type": "stream",
          "name": "stdout",
          "text": [
            "[1. 1. 1. 1. 1. 1. 1. 1. 1. 1.]\n",
            "[0. 2. 3. 0. 0. 0. 0. 0. 0. 0. 0.]\n"
          ]
        }
      ],
      "source": [
        "#write code here\n",
        "A = np.ones(10)\n",
        "print(A)\n",
        "\n",
        "B = np.zeros(11)\n",
        "B[1] = 2\n",
        "B[2] = 3\n",
        "print(B)"
      ]
    },
    {
      "cell_type": "markdown",
      "metadata": {
        "id": "OnPJvy9GH1H4"
      },
      "source": [
        "##Numpy: Statistics\n",
        "https://docs.scipy.org/doc/numpy-1.15.1/reference/routines.statistics.html\n",
        "\n",
        "For random sampling : https://docs.scipy.org/doc/numpy-1.15.0/reference/routines.random.html"
      ]
    },
    {
      "cell_type": "markdown",
      "metadata": {
        "id": "C_ODKpdbF758"
      },
      "source": [
        "## <font color='red'>6. Create two arrays indicating marks of students in two subjects. Get average vector of them.</font>"
      ]
    },
    {
      "cell_type": "code",
      "execution_count": null,
      "metadata": {
        "id": "g-ndczyOGJdc",
        "colab": {
          "base_uri": "https://localhost:8080/"
        },
        "outputId": "b7d0c1d1-bf74-4672-84ea-41321eaab11c"
      },
      "outputs": [
        {
          "output_type": "stream",
          "name": "stdout",
          "text": [
            "[79.5 88.  85.  90.5 87.5]\n"
          ]
        }
      ],
      "source": [
        "#write code here\n",
        "subject1_marks = np.array([84, 91, 78, 92, 88])\n",
        "subject2_marks = np.array([75, 85, 92, 89, 87])\n",
        "\n",
        "average = (subject1_marks + subject2_marks)/2\n",
        "\n",
        "print(average)\n",
        "\n"
      ]
    },
    {
      "cell_type": "markdown",
      "metadata": {
        "id": "3p0ybKFWbbZO"
      },
      "source": [
        "## Matplotlib: For Plot\n",
        "https://matplotlib.org/tutorials/introductory/pyplot.html#sphx-glr-tutorials-introductory-pyplot-py"
      ]
    },
    {
      "cell_type": "code",
      "execution_count": null,
      "metadata": {
        "id": "5onZQOXoJDbZ"
      },
      "outputs": [],
      "source": [
        "import matplotlib.pyplot as plt\n",
        "%matplotlib inline\n"
      ]
    },
    {
      "cell_type": "markdown",
      "metadata": {
        "id": "Q8aC6tu_IQGE"
      },
      "source": [
        "## <font color='red'>7. Plot the following linear functions:\n",
        "\n",
        "1.   $y=2x+3 $ from $-10\\le x\\le 10$\n",
        "2.   $y=x-15 $ from $-10\\le x\\le 10$\n",
        "<font>\n"
      ]
    },
    {
      "cell_type": "code",
      "execution_count": null,
      "metadata": {
        "colab": {
          "background_save": true,
          "base_uri": "https://localhost:8080/",
          "height": 435
        },
        "id": "3BPpQrpZnw-q",
        "outputId": "2bbeff08-c655-4f60-c0ed-75834cb24e8e"
      },
      "outputs": [
        {
          "data": {
            "image/png": "[encoded data removed]",
            "text/plain": [
              "<Figure size 640x480 with 1 Axes>"
            ]
          },
          "metadata": {},
          "output_type": "display_data"
        }
      ],
      "source": [
        "# write code here for 1\n",
        "x = np.arange(-10, 11, 1)\n",
        "y = 2*x + 3\n",
        "plt.plot(x, y)\n",
        "plt.show()"
      ]
    },
    {
      "cell_type": "code",
      "execution_count": null,
      "metadata": {
        "colab": {
          "base_uri": "https://localhost:8080/",
          "height": 430
        },
        "id": "4i-cG2VKKBUN",
        "outputId": "1b0be092-7442-4eb2-a1bc-fd956802f6de"
      },
      "outputs": [
        {
          "output_type": "display_data",
          "data": {
            "text/plain": [
              "<Figure size 640x480 with 1 Axes>"
            ],
            "image/png": "[encoded data removed]"
          },
          "metadata": {}
        }
      ],
      "source": [
        "# write code here for 2\n",
        "x = np.arange(-10, 11, 1)\n",
        "y = x - 15\n",
        "plt.plot(x, y)\n",
        "plt.show()"
      ]
    },
    {
      "cell_type": "markdown",
      "metadata": {
        "id": "jdlxVdsxcYuD"
      },
      "source": [
        "## <font color='red'>8. Plot the following non-linear functions:\n",
        "\n",
        "1.   $y=2x^2+3x+1 $ from $-10\\le x\\le 10$\n",
        "2.   $y=x^3+1 $ from $-10\\le x\\le 10$\n",
        "<font>"
      ]
    },
    {
      "cell_type": "code",
      "execution_count": null,
      "metadata": {
        "colab": {
          "base_uri": "https://localhost:8080/",
          "height": 430
        },
        "id": "07HnsfnSdjqk",
        "outputId": "d58478ce-f64c-42dd-b486-afdf7e92e337"
      },
      "outputs": [
        {
          "data": {
            "image/png": "[encoded data removed]",
            "text/plain": [
              "<Figure size 640x480 with 1 Axes>"
            ]
          },
          "metadata": {},
          "output_type": "display_data"
        }
      ],
      "source": [
        "# write code here for 1\n",
        "x = np.arange(-10, 11, 1)\n",
        "y = 2*x**2 + 3*x + 1\n",
        "plt.plot(x, y)\n",
        "plt.show()"
      ]
    },
    {
      "cell_type": "code",
      "execution_count": null,
      "metadata": {
        "colab": {
          "base_uri": "https://localhost:8080/",
          "height": 430
        },
        "id": "zH53q0TcdkPv",
        "outputId": "58ad7519-3474-46e4-866c-e317aa4064ad"
      },
      "outputs": [
        {
          "data": {
            "image/png": "[encoded data removed]",
            "text/plain": [
              "<Figure size 640x480 with 1 Axes>"
            ]
          },
          "metadata": {},
          "output_type": "display_data"
        }
      ],
      "source": [
        "# write code here for 2\n",
        "x = np.arange(-10, 11, 1)\n",
        "y = x**3 + 1\n",
        "plt.plot(x, y)\n",
        "plt.show()"
      ]
    },
    {
      "cell_type": "markdown",
      "metadata": {
        "id": "yvTnPDuID2Im"
      },
      "source": [
        "## <font color='red'>9. Interpolation *\n",
        "\n",
        "1.   $y=2x^2+3x+1 $ from $-10\\le x\\le 10$\n",
        "2.   $y=x^3+1 $ from $-10\\le x\\le 10$\n",
        "\n",
        "For both curves, we'll take 10 equidistant points in the domain, and connect them with linear lines to create interpolated curves.\n",
        "\n",
        "Now, plot both the original curves and the interpolated lines on the same graph for a comprehensive comparison.\n",
        "\n",
        "<font>"
      ]
    },
    {
      "cell_type": "code",
      "execution_count": null,
      "metadata": {
        "colab": {
          "base_uri": "https://localhost:8080/",
          "height": 430
        },
        "id": "obdAvBjJEzwy",
        "outputId": "57e9a8e8-c3c4-42c0-8109-985cb619de95"
      },
      "outputs": [
        {
          "output_type": "display_data",
          "data": {
            "text/plain": [
              "<Figure size 640x480 with 1 Axes>"
            ],
            "image/png": "[encoded data removed]"
          },
          "metadata": {}
        }
      ],
      "source": [
        "# write code here for 1\n",
        "from scipy.interpolate import CubicSpline\n",
        "x = np.linspace(-10, 10)\n",
        "y = 2*x**2 + 3*x + 1\n",
        "plt.plot(x, y, label = \"Original Curve\")\n",
        "\n",
        "xx = np.arange(-10, 11, 2)\n",
        "cs = CubicSpline(x, y)\n",
        "yy = cs(xx)\n",
        "\n",
        "plt.plot(xx, yy, label = \"Interpolated Curve\")\n",
        "plt.legend()\n",
        "plt.show()"
      ]
    },
    {
      "cell_type": "code",
      "execution_count": null,
      "metadata": {
        "id": "PJ6h3Ge-E0IQ",
        "colab": {
          "base_uri": "https://localhost:8080/",
          "height": 430
        },
        "outputId": "67059b81-02a4-4600-980a-59cb87c1ca4a"
      },
      "outputs": [
        {
          "output_type": "display_data",
          "data": {
            "text/plain": [
              "<Figure size 640x480 with 1 Axes>"
            ],
            "image/png": "[encoded data removed]"
          },
          "metadata": {}
        }
      ],
      "source": [
        "# write code here for 2\n",
        "from scipy.interpolate import CubicSpline\n",
        "x = np.linspace(-10, 10)\n",
        "y = x**3 + 1\n",
        "plt.plot(x, y, label = \"Original Curve\")\n",
        "\n",
        "xx = np.arange(-10, 11, 2)\n",
        "cs = CubicSpline(x, y)\n",
        "yy = cs(xx)\n",
        "\n",
        "plt.plot(xx, yy, label = \"Interpolated Curve\")\n",
        "plt.legend()\n",
        "plt.show()"
      ]
    },
    {
      "cell_type": "markdown",
      "metadata": {
        "id": "dr2Yb6ulCuvW"
      },
      "source": [
        "## <font color='red'>10. (last three functions in Home Assignment) Plot the following piece wise function:\n",
        "\n",
        "\n",
        "\n",
        "\n",
        "f(x) = \\begin{cases}\n",
        "      2 & \\text{if } x \\leq 0 \\\\\n",
        "      3 & \\text{if } x > 0\n",
        "   \\end{cases}\n",
        "\n",
        "g(x) = \\begin{cases}\n",
        "      x & \\text{if } x \\geq 0 \\\\\n",
        "      -x & \\text{if } x < 0\n",
        "   \\end{cases}\n",
        "\n",
        "h(x) = \\begin{cases}\n",
        "      2x + 1 & \\text{if } x < -1 \\\\\n",
        "      x & \\text{if } -1 \\leq x \\leq 1 \\\\\n",
        "      x^2 & \\text{if } x > 1\n",
        "   \\end{cases}\n",
        "\n",
        "\n",
        "k(x) = \\begin{cases}\n",
        "      x^2 & \\text{if } x < 0 \\\\\n",
        "      2x^2 - 1 & \\text{if } 0 \\leq x \\leq 1 \\\\\n",
        "      3x^2 & \\text{if } x > 1\n",
        "   \\end{cases}\n",
        "\n",
        "\n",
        "r(x) = \\begin{cases}\n",
        "      \\sin(x) & \\text{if } x < -\\pi \\\\\n",
        "      x & \\text{if } -\\pi \\leq x \\leq \\pi \\\\\n",
        "      e^x & \\text{if } x > \\pi\n",
        "   \\end{cases}\n",
        "\n",
        "\n",
        "q(x) = \\begin{cases}\n",
        "      \\frac{1}{x} & \\text{if } x < 0 \\\\\n",
        "      x^2 + 1 & \\text{if } 0 \\leq x \\leq 1 \\\\\n",
        "      \\sqrt{x} & \\text{if } x > 1\n",
        "   \\end{cases}\n",
        "\n",
        "\n",
        "\n",
        "\n",
        "<font>"
      ]
    },
    {
      "cell_type": "code",
      "execution_count": null,
      "metadata": {
        "colab": {
          "base_uri": "https://localhost:8080/",
          "height": 430
        },
        "id": "PLkTRjKeCuZP",
        "outputId": "ec7deddf-4d07-4bb3-fd0b-3c254692ce25"
      },
      "outputs": [
        {
          "output_type": "display_data",
          "data": {
            "text/plain": [
              "<Figure size 640x480 with 1 Axes>"
            ],
            "image/png": "[encoded data removed]"
          },
          "metadata": {}
        }
      ],
      "source": [
        "# write code here for 1\n",
        "x = np.linspace(-5, 0)\n",
        "y = x* 0 + 2\n",
        "\n",
        "plt.plot(x, y)\n",
        "\n",
        "x = np.linspace(0, 5)\n",
        "y = x* 0 + 3\n",
        "plt.plot(x, y)\n",
        "plt.show()"
      ]
    },
    {
      "cell_type": "code",
      "execution_count": null,
      "metadata": {
        "colab": {
          "base_uri": "https://localhost:8080/",
          "height": 430
        },
        "id": "gS1fvHtAE5x2",
        "outputId": "8523b39f-00c8-4562-ec49-3c4c69660d8e"
      },
      "outputs": [
        {
          "output_type": "display_data",
          "data": {
            "text/plain": [
              "<Figure size 640x480 with 1 Axes>"
            ],
            "image/png": "[encoded data removed]"
          },
          "metadata": {}
        }
      ],
      "source": [
        "# write code here for 2\n",
        "x = np.linspace(-5, 0)\n",
        "y = -x\n",
        "\n",
        "plt.plot(x, y)\n",
        "\n",
        "x = np.linspace(0, 5)\n",
        "y = x\n",
        "plt.plot(x, y)\n",
        "plt.show()\n"
      ]
    },
    {
      "cell_type": "code",
      "execution_count": null,
      "metadata": {
        "id": "Q-pwBBdEE6xC",
        "colab": {
          "base_uri": "https://localhost:8080/",
          "height": 430
        },
        "outputId": "6de32e53-322e-44f9-c303-ca44fadf640e"
      },
      "outputs": [
        {
          "output_type": "display_data",
          "data": {
            "text/plain": [
              "<Figure size 640x480 with 1 Axes>"
            ],
            "image/png": "[encoded data removed]"
          },
          "metadata": {}
        }
      ],
      "source": [
        "# write code here for 3\n",
        "x = np.linspace(-5, -1)\n",
        "y = 2*x + 1\n",
        "\n",
        "plt.plot(x, y)\n",
        "\n",
        "x = np.linspace(-1, 1)\n",
        "y = x\n",
        "plt.plot(x, y)\n",
        "\n",
        "x = np.linspace(1, 5)\n",
        "y = x**2\n",
        "plt.plot(x, y)\n",
        "plt.show()"
      ]
    },
    {
      "cell_type": "code",
      "execution_count": null,
      "metadata": {
        "id": "NyUcb6cgE7sH"
      },
      "outputs": [],
      "source": [
        "# write code here for 4\n"
      ]
    },
    {
      "cell_type": "code",
      "execution_count": null,
      "metadata": {
        "id": "ly4PcuTbE-rR"
      },
      "outputs": [],
      "source": [
        "# write code here for 5\n"
      ]
    },
    {
      "cell_type": "code",
      "execution_count": null,
      "metadata": {
        "id": "4BD6Tg6OE_jb"
      },
      "outputs": [],
      "source": [
        "# write code here for 6\n"
      ]
    },
    {
      "cell_type": "markdown",
      "metadata": {
        "id": "GobP2IePGThL"
      },
      "source": [
        "## <font color='red'>11. Write code to verify whether the given vectors are linearly independent or not.\n",
        "v1 = [6 0 3 1 4 2];\n",
        "v2 = [0 -1 2 7 0 5];\n",
        "v3 = [12 3 0 -19 8 -11].</font>\n",
        "\n",
        "Hint: You can use matrix rank or rref form with help of numpy.linalg library"
      ]
    },
    {
      "cell_type": "code",
      "execution_count": null,
      "metadata": {
        "id": "hYOPaUUqG0-Y"
      },
      "outputs": [],
      "source": [
        "#write code here\n",
        "v1 = np.array([6, 0, 3, 1, 4, 2])\n",
        "v2 = np.array([0, -1, 2, 7, 0, 5])\n",
        "v3 = np.array([12, 3, 0, -19, 8, -11])\n",
        "\n",
        "matrix = np.column_stack((v1, v2, v3))\n",
        "\n",
        "rank = np.linalg.matrix_rank(matrix)\n",
        "\n",
        "if rank == len([v1, v2, v3]):\n",
        "  print(\"Linearly Independent\")\n",
        "else:\n",
        "  print(\"Not Linearly Independent\")"
      ]
    },
    {
      "cell_type": "markdown",
      "metadata": {
        "id": "dHjk5I0QM3S0"
      },
      "source": [
        "## <font color='red'>12. For real symmetric matrix.  \n",
        "1.   Find the Eigen values and eigen vectors\n",
        "2.   Verify properties of Eigen values and Eigen vector.</font>\n",
        "\n",
        "As example, $A=\\begin{bmatrix}1 & 2 & 3 \\\\2 & 5 & 6\\\\3 & 6 & 7\n",
        "\\end{bmatrix}$"
      ]
    },
    {
      "cell_type": "code",
      "execution_count": null,
      "metadata": {
        "id": "pIwy4pqQN1cn",
        "colab": {
          "base_uri": "https://localhost:8080/"
        },
        "outputId": "ba6f8288-1b72-406b-a49d-9cb43bb789f7"
      },
      "outputs": [
        {
          "output_type": "stream",
          "name": "stdout",
          "text": [
            "[-0.4667216   0.32610415 13.14061745]\n",
            "[[ 0.66831303  0.68784863 -0.28323481]\n",
            " [ 0.42532424 -0.66571204 -0.61312867]\n",
            " [-0.61029254  0.28929525 -0.73746272]]\n",
            "[[1.4667216 2.        3.       ]\n",
            " [2.        5.4667216 6.       ]\n",
            " [3.        6.        7.4667216]]\n",
            "It is linearly independent and we know that all the eigen vectors are linearly independent\n"
          ]
        }
      ],
      "source": [
        "#write code here\n",
        "A = np.matrix([[1, 2, 3], [2, 5, 6], [3, 6, 7]])\n",
        "eig_val, eig_vec = np.linalg.eigh(A)\n",
        "\n",
        "print(eig_val)\n",
        "print(eig_vec)\n",
        "\n",
        "rank = np.linalg.matrix_rank(eig_vec)\n",
        "\n",
        "if rank == len(eig_vec): print(\"It is linearly independent and we know that all the eigen vectors are linearly independent\")\n"
      ]
    },
    {
      "cell_type": "markdown",
      "metadata": {
        "id": "167i2Ni7X1oZ"
      },
      "source": [
        "## Python Function:\n",
        "https://www.tutorialspoint.com/python/python_functions.htm"
      ]
    },
    {
      "cell_type": "markdown",
      "metadata": {
        "id": "iauUBzH2SKPk"
      },
      "source": [
        "## <font color='red'>13. Write code for the following:\n",
        "  \n",
        "\n",
        "1.   Create a column vector with 10 values of temperature in degree centigrade $C^\\circ$\n",
        "2.   Convert each of the temperature values in degree Fahrenheit using the formula $$F^\\circ=\\frac{9}{5}C^\\circ+32$$\n",
        "1.   Make the final matrix with temperature values in $C^\\circ$ as the first column and in F as the second column.\n",
        "<font>\n",
        "\n"
      ]
    },
    {
      "cell_type": "code",
      "execution_count": null,
      "metadata": {
        "id": "RDtWZvYuTsPS"
      },
      "outputs": [],
      "source": [
        "def ctof(c):\n",
        "  #write code here to convert c to f\n",
        "  f = (c - 32)*5\n",
        "  f /= 9\n",
        "\n",
        "  return f"
      ]
    },
    {
      "cell_type": "code",
      "execution_count": null,
      "metadata": {
        "id": "DqwYVjmWUz4H"
      },
      "outputs": [],
      "source": [
        "#write code for 1\n",
        "\n",
        "c = np.array([34, 87, 45, 35, 23, 47, 46, 90, -20, -48])\n"
      ]
    },
    {
      "cell_type": "code",
      "execution_count": null,
      "metadata": {
        "id": "--ytBr4EYEL_",
        "colab": {
          "base_uri": "https://localhost:8080/"
        },
        "outputId": "6b12fa63-f90b-4c3a-b11f-d90a9bdfb861"
      },
      "outputs": [
        {
          "output_type": "stream",
          "name": "stdout",
          "text": [
            "[  1.11111111  30.55555556   7.22222222   1.66666667  -5.\n",
            "   8.33333333   7.77777778  32.22222222 -28.88888889 -44.44444444]\n"
          ]
        }
      ],
      "source": [
        "#write code for 2\n",
        "f = np.vectorize(ctof)(c)\n",
        "print(f)"
      ]
    },
    {
      "cell_type": "code",
      "execution_count": null,
      "metadata": {
        "id": "jHbry5XnYNpN",
        "colab": {
          "base_uri": "https://localhost:8080/"
        },
        "outputId": "13d53d72-8b9e-4f38-c476-d7ece3928ef6"
      },
      "outputs": [
        {
          "output_type": "stream",
          "name": "stdout",
          "text": [
            "[[ 34.           1.11111111]\n",
            " [ 87.          30.55555556]\n",
            " [ 45.           7.22222222]\n",
            " [ 35.           1.66666667]\n",
            " [ 23.          -5.        ]\n",
            " [ 47.           8.33333333]\n",
            " [ 46.           7.77777778]\n",
            " [ 90.          32.22222222]\n",
            " [-20.         -28.88888889]\n",
            " [-48.         -44.44444444]]\n"
          ]
        }
      ],
      "source": [
        "#write code for 3\n",
        "result = np.column_stack((c, f))\n",
        "print(result)"
      ]
    },
    {
      "cell_type": "markdown",
      "metadata": {
        "id": "7R2JhXrrY9-2"
      },
      "source": [
        "## Python : Control statements\n",
        "if else: https://www.w3schools.com/python/python_conditions.asp\n",
        "\n",
        "while loop : https://www.w3schools.com/python/python_while_loops.asp\n",
        "\n",
        "for loop : https://www.w3schools.com/python/python_for_loops.asp"
      ]
    },
    {
      "cell_type": "markdown",
      "metadata": {
        "id": "ER-fUvoFYir-"
      },
      "source": [
        "## <font color='red'>14. Determine the probability of 3 heads in 4 tosses of a coin with probability of head being $p=0.75$. Use a relative frequency interpretation of probability to yield the result."
      ]
    },
    {
      "cell_type": "code",
      "execution_count": null,
      "metadata": {
        "id": "80ti1ZQTY8UF",
        "colab": {
          "base_uri": "https://localhost:8080/"
        },
        "outputId": "9fffb0f6-3f21-4689-b4a4-2637b9c99672"
      },
      "outputs": [
        {
          "output_type": "stream",
          "name": "stdout",
          "text": [
            "The probability of getting exactly 3 heads in 4 tosses is: 0.4239\n"
          ]
        }
      ],
      "source": [
        "#write code here\n",
        "\n",
        "def toss(toss, bias):\n",
        "    return sum(1 for _ in range(toss) if random.random() < ph)\n",
        "\n",
        "num_toss = 4\n",
        "bias = 0.75\n",
        "simulations = 100000\n",
        "\n",
        "count = sum(1 for _ in range(simulations) if toss(num_toss, bias) == 3)\n",
        "\n",
        "prob_3_heads = count / simulations\n",
        "\n",
        "print(f\"The probability of getting exactly 3 heads in 4 tosses is: {prob_3_heads:.4f}\")\n",
        "\n",
        "\n"
      ]
    },
    {
      "cell_type": "markdown",
      "metadata": {
        "id": "uqQyo3jNd3Df"
      },
      "source": [
        "## <font color='red'>15. Write a program that will add all the numbers corresponding to the even indices of an array. Use that program to find the sum of all even integers from 1 to 1000.<font>"
      ]
    },
    {
      "cell_type": "code",
      "execution_count": null,
      "metadata": {
        "id": "JzmE6DJJeYvH"
      },
      "outputs": [],
      "source": [
        "#hint: Write your program as follows: where x is the input vector, and y is the sum of all the numbers corresponding to the even indices of x.\n",
        "def addeven(x):\n",
        "  #write code here\n",
        "  sum = np.sum(x[::2])\n",
        "  return sum"
      ]
    },
    {
      "cell_type": "code",
      "execution_count": null,
      "metadata": {
        "id": "swRSzjrUeu3D",
        "colab": {
          "base_uri": "https://localhost:8080/"
        },
        "outputId": "ae5e20ad-9561-4aa8-dde8-658255869d8f"
      },
      "outputs": [
        {
          "output_type": "execute_result",
          "data": {
            "text/plain": [
              "250000"
            ]
          },
          "metadata": {},
          "execution_count": 37
        }
      ],
      "source": [
        "#generate array\n",
        "a= np.array(range(1, 1001))\n",
        "addeven(a)"
      ]
    },
    {
      "cell_type": "markdown",
      "metadata": {
        "id": "VEF3kNXLcYuK"
      },
      "source": [
        "## <font color='red'>16. Write a program to generate uniformly distributed random numbers.<font>\n",
        "    Hint: use Linear Congruential Generator. link: https://en.wikipedia.org/wiki/Linear_congruential_generator"
      ]
    },
    {
      "cell_type": "code",
      "execution_count": null,
      "metadata": {
        "id": "Ynr6k8kIcYuK",
        "colab": {
          "base_uri": "https://localhost:8080/"
        },
        "outputId": "573f5287-0300-403b-dcf3-e0c0f1b325fe"
      },
      "outputs": [
        {
          "output_type": "stream",
          "name": "stdout",
          "text": [
            "0.0007525957189500332\n",
            "0.31412461772561073\n",
            "0.2928969501517713\n",
            "0.600510723888874\n",
            "0.3209607205353677\n",
            "0.8896692208945751\n",
            "0.6573611660860479\n"
          ]
        }
      ],
      "source": [
        "#Write code here\n",
        "\n",
        "def lcg(seed, cnt, a, c,mod, n):\n",
        "  if cnt==n:\n",
        "    return seed/mod\n",
        "  else:\n",
        "    seed=(a*seed+c)%mod\n",
        "    return lcg(seed, cnt + 1, a, c, mod,n)\n",
        "\n",
        "for n in range(1, 8):\n",
        "  print(lcg(0,0,12375,3232374,2**32,n))\n"
      ]
    },
    {
      "cell_type": "markdown",
      "metadata": {
        "id": "LbG7cGmLFF3j"
      },
      "source": [
        "## <font color='red'>17. (Home assignment) Convert the uniform random numbers generated in Q-16 into Normally Distributed random numbers.<font>\n",
        "    Hint: use Box–Muller transform. link: https://en.wikipedia.org/wiki/Box%E2%80%93Muller_transform"
      ]
    },
    {
      "cell_type": "code",
      "execution_count": null,
      "metadata": {
        "id": "UMTIfH5vFI_l"
      },
      "outputs": [],
      "source": [
        "#Write code here\n"
      ]
    },
    {
      "cell_type": "markdown",
      "metadata": {
        "id": "5R-giCPFMkw-"
      },
      "source": [
        "## <font color='red'>18. Generate 3 random integers between 100 and 999 which is divisible by 5.<font>"
      ]
    },
    {
      "cell_type": "code",
      "execution_count": null,
      "metadata": {
        "id": "TeObYEL8M2W8",
        "colab": {
          "base_uri": "https://localhost:8080/"
        },
        "outputId": "5f878f78-0989-4611-dec5-33a7a3b45a34"
      },
      "outputs": [
        {
          "output_type": "stream",
          "name": "stdout",
          "text": [
            "[255, 370, 985]\n"
          ]
        }
      ],
      "source": [
        "#Write code here\n",
        "\n",
        "import random\n",
        "\n",
        "rand_int = []\n",
        "\n",
        "while len(rand_int) < 3:\n",
        "  integer = random.randint(100, 999)\n",
        "  if integer % 5 == 0:\n",
        "    rand_int.append(integer)\n",
        "\n",
        "print(rand_int)\n",
        "\n"
      ]
    },
    {
      "cell_type": "markdown",
      "metadata": {
        "id": "yXw85ZMPNJjM"
      },
      "source": [
        "## <font color='red'>19. Generate a random password which meets the following conditions.<font>\n",
        "1) Password length must be 10 characters long.\n",
        "\n",
        "2) It must contain at least 2 upper case letters, 1 digit, and 1 special symbol."
      ]
    },
    {
      "cell_type": "code",
      "execution_count": null,
      "metadata": {
        "id": "bC0yb0SeYcNz",
        "colab": {
          "base_uri": "https://localhost:8080/"
        },
        "outputId": "7aff5643-f924-4f27-89f0-17612e25cfcf"
      },
      "outputs": [
        {
          "output_type": "stream",
          "name": "stdout",
          "text": [
            "['b', '-', '@', 'A', '3', 'E', '/', '=', 'G', 'w']\n"
          ]
        }
      ],
      "source": [
        "#Write code here\n",
        "import random\n",
        "import string\n",
        "\n",
        "upper_case = string.ascii_uppercase\n",
        "digits = string.digits\n",
        "symbol = string.punctuation\n",
        "\n",
        "password = random.choices(upper_case, k=2)\n",
        "\n",
        "password.append(random.choice(digits))\n",
        "\n",
        "password.append(random.choice(symbol))\n",
        "\n",
        "other_sym = 10- len(password)\n",
        "\n",
        "all_characters = string.ascii_letters + digits + symbol\n",
        "password.extend(random.choices(all_characters, k=other_sym))\n",
        "\n",
        "random.shuffle(password)\n",
        "\n",
        "password_str = ''.join(password)\n",
        "\n",
        "print(password)"
      ]
    },
    {
      "cell_type": "code",
      "source": [],
      "metadata": {
        "id": "-u1kIYCqfA4e"
      },
      "execution_count": null,
      "outputs": []
    }
  ],
  "metadata": {
    "accelerator": "GPU",
    "colab": {
      "provenance": [],
      "include_colab_link": true
    },
    "kernelspec": {
      "display_name": "Python 3",
      "language": "python",
      "name": "python3"
    },
    "language_info": {
      "codemirror_mode": {
        "name": "ipython",
        "version": 3
      },
      "file_extension": ".py",
      "mimetype": "text/x-python",
      "name": "python",
      "nbconvert_exporter": "python",
      "pygments_lexer": "ipython3",
      "version": "3.8.5"
    }
  },
  "nbformat": 4,
  "nbformat_minor": 0
}